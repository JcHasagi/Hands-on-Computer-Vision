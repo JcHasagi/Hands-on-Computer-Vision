{
  "cells": [
    {
      "cell_type": "markdown",
      "metadata": {
        "id": "c-mPf49uLaPj"
      },
      "source": [
        "![banner](https://github.com/JcHasagi/Hands-on-Computer-Vision/blob/main/sesiones/sesion3/banner.png?raw=1)\n"
      ]
    },
    {
      "cell_type": "markdown",
      "metadata": {
        "id": "AcRZEsRLRwiG"
      },
      "source": [
        "# 🖥️✨ **Librerias importantes de Visión por Computadora**  \n",
        "\n",
        "🔹 **TorchVision** - Base principal para tareas de visión por computadora.  \n",
        "📂 **torchvision.datasets** - Accede a conjuntos de datos y carga de datos para visión por computadora.  \n",
        "🤖 **torchvision.models** - Modelos pre-entrenados listos para usar en tareas de visión por computadora.  \n",
        "🎨 **torchvision.transforms** - Transformaciones para el procesamiento de imágenes.  \n",
        "📦 **torch.utils.data.Dataset** - Clase base para crear conjuntos de datos en PyTorch.  \n",
        "🔄 **torch.utils.data.DataLoader** - Crea un iterable en Python para recorrer un conjunto de datos.  \n"
      ]
    },
    {
      "cell_type": "code",
      "execution_count": 3,
      "metadata": {
        "id": "xjOhv5DTQ-ee"
      },
      "outputs": [],
      "source": [
        "## @title Librerias importantes\n",
        "import torch\n",
        "from torch import nn\n",
        "import matplotlib.pyplot as plt\n",
        "import torchvision\n",
        "from torchvision import datasets\n",
        "from torchvision import transforms\n",
        "from torchvision.transforms import ToTensor\n",
        "from torch.utils.data import DataLoader"
      ]
    },
    {
      "cell_type": "code",
      "execution_count": 4,
      "metadata": {
        "id": "v1BknNLjXNPy"
      },
      "outputs": [],
      "source": [
        "## @title Primer Modelo\n",
        "import torch.nn as nn\n",
        "\n",
        "class ModelCV(nn.Module):\n",
        "    def __init__(self, input_shape: int, hidden_units: int, output_shape: int):\n",
        "        super().__init__()\n",
        "\n",
        "        self.flatten = nn.Flatten()\n",
        "        self.fc1 = nn.Linear(in_features=input_shape, out_features=hidden_units)\n",
        "        self.relu = nn.ReLU() # Funcion de activacion\n",
        "        self.fc2 = nn.Linear(in_features=hidden_units, out_features=output_shape)\n",
        "\n",
        "    def forward(self, x):\n",
        "        # x = self.flatten(x)\n",
        "        # x = self.fc1(x)\n",
        "        # x = self.fc2(x)\n",
        "        # return x\n",
        "        return self.fc2(self.relu(self.fc1(self.flatten(x))))"
      ]
    },
    {
      "cell_type": "code",
      "execution_count": 5,
      "metadata": {
        "colab": {
          "base_uri": "https://localhost:8080/"
        },
        "id": "lTLYmA0_Xt0W",
        "outputId": "f25b7c6e-2770-451e-e446-4ad20139b6ef"
      },
      "outputs": [
        {
          "output_type": "execute_result",
          "data": {
            "text/plain": [
              "ModelCV(\n",
              "  (flatten): Flatten(start_dim=1, end_dim=-1)\n",
              "  (fc1): Linear(in_features=1, out_features=10, bias=True)\n",
              "  (relu): ReLU()\n",
              "  (fc2): Linear(in_features=10, out_features=1, bias=True)\n",
              ")"
            ]
          },
          "metadata": {},
          "execution_count": 5
        }
      ],
      "source": [
        "model = ModelCV(input_shape=1, hidden_units=10, output_shape=1)\n",
        "# model.state_dict()\n",
        "model"
      ]
    },
    {
      "cell_type": "markdown",
      "metadata": {
        "id": "HvZqyhGGYpIy"
      },
      "source": [
        "# 🎛️ Capas Convolucionales (Convolutional Layers)\n",
        "\n",
        "🛠️ **Parámetros clave:**  \n",
        "- 🏗️ **Tamaño del kernel:** Define la región de la imagen que analiza cada filtro.  \n",
        "- ⚙️ **Stride (desplazamiento):** Determina cuánto se mueve el filtro en cada paso.  \n",
        "- 🔲 **Padding:** Agrega píxeles alrededor de la imagen para mantener su tamaño.\n",
        "\n",
        "https://poloclub.github.io/cnn-explainer/"
      ]
    },
    {
      "cell_type": "code",
      "execution_count": 6,
      "metadata": {
        "id": "wE8faji6YoZ1"
      },
      "outputs": [],
      "source": [
        "# Cambia las partes que digan \"FIXME\"\n",
        "class ModelCV2(nn.Module):\n",
        "  def __init__(self, input_shape: int, hidden_units: int, output_shape: int):\n",
        "    super().__init__()\n",
        "    self.conv1 = nn.Conv2d(in_channels=input_shape, out_channels=hidden_units, kernel_size=3, stride=1, padding=0)\n",
        "    self.relu1 = nn.ReLU() # cambialo si quieres\n",
        "    self.flatten = nn.Flatten()\n",
        "    self.fc1 = nn.Linear(in_features=26*26*hidden_units, out_features=hidden_units)\n",
        "    self.relu2 = nn.ReLU()\n",
        "    self.fc2 = nn.Linear(in_features= hidden_units, out_features=output_shape)\n",
        "\n",
        "  def forward(self, x):\n",
        "    return self.fc2(self.relu2(self.fc1(self.flatten(self.relu1(self.conv1(x))))))"
      ]
    },
    {
      "cell_type": "markdown",
      "metadata": {
        "id": "gN9jjMI5BlOG"
      },
      "source": [
        "## 📂 Obteniendo un Dataset  \n",
        "\n",
        "El dataset que utilizaremos es **Fashion MNIST**, proveniente de `torchvision.datasets`.  \n",
        "\n",
        "🛍️ **Fashion MNIST** es una colección de imágenes en escala de grises que representa diferentes categorías de ropa y accesorios. Es una alternativa moderna al clásico **MNIST** de dígitos escritos a mano.  \n",
        "\n",
        "📌 **Fuente:** `torchvision.datasets`  \n"
      ]
    },
    {
      "cell_type": "code",
      "execution_count": 7,
      "metadata": {
        "colab": {
          "base_uri": "https://localhost:8080/"
        },
        "id": "M2CHxsV6Bi__",
        "outputId": "cff72a92-f45b-47c9-fe23-55ef2737209f"
      },
      "outputs": [
        {
          "output_type": "stream",
          "name": "stderr",
          "text": [
            "100%|██████████| 26.4M/26.4M [00:02<00:00, 9.98MB/s]\n",
            "100%|██████████| 29.5k/29.5k [00:00<00:00, 174kB/s]\n",
            "100%|██████████| 4.42M/4.42M [00:01<00:00, 3.04MB/s]\n",
            "100%|██████████| 5.15k/5.15k [00:00<00:00, 24.9MB/s]\n"
          ]
        }
      ],
      "source": [
        "#Training y Testing Data\n",
        "train_data = datasets.FashionMNIST(root = \"data\",\n",
        "                                   train=True, # train dataset\n",
        "                                   download = True,\n",
        "                                   transform = ToTensor(), # posibles transformaciones\n",
        "                                   target_transform=None\n",
        "                                   )\n",
        "\n",
        "test_data = datasets.FashionMNIST(root=\"data\",\n",
        "                                  train=False,\n",
        "                                  download=True,\n",
        "                                  transform=ToTensor(),\n",
        "                                  target_transform=None\n",
        "                                  )"
      ]
    },
    {
      "cell_type": "code",
      "execution_count": 8,
      "metadata": {
        "colab": {
          "base_uri": "https://localhost:8080/"
        },
        "id": "uDicEdtPB5-a",
        "outputId": "30bad602-2812-4a3e-8e50-6ae1e42efc07"
      },
      "outputs": [
        {
          "output_type": "execute_result",
          "data": {
            "text/plain": [
              "['T-shirt/top',\n",
              " 'Trouser',\n",
              " 'Pullover',\n",
              " 'Dress',\n",
              " 'Coat',\n",
              " 'Sandal',\n",
              " 'Shirt',\n",
              " 'Sneaker',\n",
              " 'Bag',\n",
              " 'Ankle boot']"
            ]
          },
          "metadata": {},
          "execution_count": 8
        }
      ],
      "source": [
        "class_names = train_data.classes\n",
        "class_names"
      ]
    },
    {
      "cell_type": "code",
      "execution_count": 9,
      "metadata": {
        "colab": {
          "base_uri": "https://localhost:8080/",
          "height": 445
        },
        "id": "nTbRcga1B753",
        "outputId": "f45189b1-faf6-43b7-dfeb-862b8bb0402a"
      },
      "outputs": [
        {
          "output_type": "stream",
          "name": "stdout",
          "text": [
            "image shape: torch.Size([1, 28, 28])\n"
          ]
        },
        {
          "output_type": "display_data",
          "data": {
            "text/plain": [
              "<Figure size 640x480 with 1 Axes>"
            ],
            "image/png": "[encoded data removed]"
          },
          "metadata": {}
        }
      ],
      "source": [
        "image, label = train_data[0] # Visualizacion\n",
        "print(f\"image shape: {image.shape}\") # dimension de una imagen\n",
        "plt.imshow(image.squeeze())\n",
        "plt.title(class_names[label])\n",
        "plt.axis(\"off\")\n",
        "plt.show()"
      ]
    },
    {
      "cell_type": "markdown",
      "metadata": {
        "id": "cvr5u1IjJ34_"
      },
      "source": [
        "### 👀 Visualización del Dataset  \n",
        "\n",
        "Para entender mejor los datos, vamos a visualizar algunas imágenes del **Fashion MNIST**.  \n",
        "\n",
        "🎨 Vamos a graficar algunas muestras para observar su apariencia y distribución.  \n"
      ]
    },
    {
      "cell_type": "code",
      "execution_count": 10,
      "metadata": {
        "colab": {
          "base_uri": "https://localhost:8080/",
          "height": 752
        },
        "id": "nvvHxcVKCPLS",
        "outputId": "58f1f4f2-5023-4672-eb51-b8895a78a105"
      },
      "outputs": [
        {
          "output_type": "display_data",
          "data": {
            "text/plain": [
              "<Figure size 900x900 with 9 Axes>"
            ],
            "image/png": "[encoded data removed]"
          },
          "metadata": {}
        }
      ],
      "source": [
        "#VISUALIZE VISUALIZE VISUALIZE\n",
        "torch.manual_seed(42)\n",
        "\n",
        "fig = plt.figure(figsize=(9,9))\n",
        "rows, cols = 3, 3 # cuantas imagenes quieras ver...\n",
        "for i in range(1, rows*cols+1):\n",
        "  random_idx = torch.randint(0, len(train_data), size=[1]).item()\n",
        "  img, label = train_data[random_idx]\n",
        "  fig.add_subplot(rows, cols, i)\n",
        "  plt.imshow(img.squeeze(), cmap=\"gray\")\n",
        "  plt.title(class_names[label])\n",
        "  plt.axis(False)"
      ]
    },
    {
      "cell_type": "code",
      "execution_count": 11,
      "metadata": {
        "colab": {
          "base_uri": "https://localhost:8080/"
        },
        "id": "dsL9t4L-CZwk",
        "outputId": "bb8c976e-de7a-4b3d-92f7-defb1619e48b"
      },
      "outputs": [
        {
          "output_type": "execute_result",
          "data": {
            "text/plain": [
              "(Dataset FashionMNIST\n",
              "     Number of datapoints: 60000\n",
              "     Root location: data\n",
              "     Split: Train\n",
              "     StandardTransform\n",
              " Transform: ToTensor(),\n",
              " Dataset FashionMNIST\n",
              "     Number of datapoints: 10000\n",
              "     Root location: data\n",
              "     Split: Test\n",
              "     StandardTransform\n",
              " Transform: ToTensor())"
            ]
          },
          "metadata": {},
          "execution_count": 11
        }
      ],
      "source": [
        "train_data, test_data"
      ]
    },
    {
      "cell_type": "markdown",
      "metadata": {
        "id": "MAU2uwhWMhcy"
      },
      "source": [
        "### 🚂 TrainDataloader y TestDataloader  \n",
        "\n",
        "Para entrenar y evaluar nuestro modelo, necesitamos **dataloaders** que nos ayuden a manejar los datos de manera eficiente.  \n",
        "\n",
        "🔄 **TrainDataloader**:  \n",
        "Se encarga de cargar los datos de entrenamiento en **lotes (batches)**, permitiendo el procesamiento en paralelo y la optimización del rendimiento.  \n",
        "\n",
        "🧪 **TestDataloader**:  \n",
        "Nos permite evaluar el modelo con datos de prueba para medir su precisión y rendimiento.  \n",
        "\n",
        "📌 Estos dataloaders provienen de `torch.utils.data.DataLoader`, que facilita la iteración sobre los datasets de `torchvision.datasets`.  \n"
      ]
    },
    {
      "cell_type": "code",
      "execution_count": 12,
      "metadata": {
        "colab": {
          "base_uri": "https://localhost:8080/"
        },
        "id": "ANqU18hECf_N",
        "outputId": "60a4f9a3-156a-4089-ae3e-d94b85554339"
      },
      "outputs": [
        {
          "output_type": "execute_result",
          "data": {
            "text/plain": [
              "(<torch.utils.data.dataloader.DataLoader at 0x7acbac343b10>,\n",
              " <torch.utils.data.dataloader.DataLoader at 0x7acbac2bcbd0>)"
            ]
          },
          "metadata": {},
          "execution_count": 12
        }
      ],
      "source": [
        "BATCH_SIZE = 32 # Numero de imagenes por Batch\n",
        "\n",
        "#turn datasets into iterables (batches)\n",
        "\n",
        "train_dataloader = DataLoader(dataset = train_data,\n",
        "                          batch_size = BATCH_SIZE,\n",
        "                          shuffle=True)\n",
        "test_dataloader = DataLoader(dataset = test_data,\n",
        "                         batch_size = BATCH_SIZE,\n",
        "                         shuffle = False)\n",
        "\n",
        "train_dataloader, test_dataloader"
      ]
    },
    {
      "cell_type": "code",
      "execution_count": 13,
      "metadata": {
        "colab": {
          "base_uri": "https://localhost:8080/"
        },
        "id": "ylPuFxH4ClgW",
        "outputId": "1b860b0f-356d-483d-f9d7-827b65355988"
      },
      "outputs": [
        {
          "output_type": "stream",
          "name": "stdout",
          "text": [
            "DataLoaders: (<torch.utils.data.dataloader.DataLoader object at 0x7acbac343b10>, <torch.utils.data.dataloader.DataLoader object at 0x7acbac343b10>)\n",
            "Length of train_dataloader: 1875 batches of 32...\n",
            "Length of test_dataloader: 313 batches of 32...\n"
          ]
        }
      ],
      "source": [
        "# Veamos lo que acabamos de crear\n",
        "\n",
        "print(f\"DataLoaders: {train_dataloader,train_dataloader }\")\n",
        "print(f\"Length of train_dataloader: {len(train_dataloader)} batches of {BATCH_SIZE}...\")\n",
        "print(f\"Length of test_dataloader: {len(test_dataloader)} batches of {BATCH_SIZE}...\")"
      ]
    },
    {
      "cell_type": "code",
      "execution_count": 14,
      "metadata": {
        "colab": {
          "base_uri": "https://localhost:8080/"
        },
        "id": "a8a4WqNUCpMf",
        "outputId": "75a88f5c-7b57-4de7-ea20-6cdc9f7faf95"
      },
      "outputs": [
        {
          "output_type": "execute_result",
          "data": {
            "text/plain": [
              "(torch.Size([32, 1, 28, 28]), torch.Size([32]))"
            ]
          },
          "metadata": {},
          "execution_count": 14
        }
      ],
      "source": [
        "# veamos que hay dentro del traindataloader\n",
        "train_features_batch, train_labels_batch = next(iter(train_dataloader))\n",
        "train_features_batch.shape, train_labels_batch.shape"
      ]
    },
    {
      "cell_type": "code",
      "execution_count": 15,
      "metadata": {
        "id": "-onsQVbSrdsc"
      },
      "outputs": [],
      "source": [
        "# img_prueba = torch.rand(size=(32,1,28,28))\n",
        "# print(img_prueba.shape)\n",
        "# labels_len = len(class_names)\n",
        "# model = ModelCV2(input_shape=1, hidden_units=64, output_shape=labels_len)\n",
        "# salida = model(img_prueba)"
      ]
    },
    {
      "cell_type": "code",
      "execution_count": 23,
      "metadata": {
        "id": "psdl-jBTrehK",
        "outputId": "76819ce3-e1d7-4852-8736-a375a9252979",
        "colab": {
          "base_uri": "https://localhost:8080/"
        }
      },
      "outputs": [
        {
          "output_type": "execute_result",
          "data": {
            "text/plain": [
              "ModelCV2(\n",
              "  (conv1): Conv2d(1, 64, kernel_size=(3, 3), stride=(1, 1))\n",
              "  (relu1): ReLU()\n",
              "  (flatten): Flatten(start_dim=1, end_dim=-1)\n",
              "  (fc1): Linear(in_features=43264, out_features=64, bias=True)\n",
              "  (relu2): ReLU()\n",
              "  (fc2): Linear(in_features=64, out_features=10, bias=True)\n",
              ")"
            ]
          },
          "metadata": {},
          "execution_count": 23
        }
      ],
      "source": [
        "model = ModelCV2(input_shape=1, hidden_units= 64, output_shape=len(class_names))\n",
        "model"
      ]
    },
    {
      "cell_type": "markdown",
      "metadata": {
        "id": "vVZgfogoMs2z"
      },
      "source": [
        "## 🎯 Elección de la Función de Pérdida y el Optimizador  \n",
        "\n",
        "Para entrenar nuestra red neuronal, necesitamos definir:\n",
        "\n",
        "📌 En PyTorch, podemos encontrar múltiples opciones en `torch.nn` (para la pérdida) y `torch.optim` (para el optimizador).  "
      ]
    },
    {
      "cell_type": "code",
      "execution_count": 24,
      "metadata": {
        "id": "z7zvzwyErjO3"
      },
      "outputs": [],
      "source": [
        "loss_fn = nn.CrossEntropyLoss()\n",
        "optimizer = torch.optim.SGD(params = model.parameters(), lr = 0.01)"
      ]
    },
    {
      "cell_type": "code",
      "execution_count": 29,
      "metadata": {
        "id": "Ozgtwf7BvjoU",
        "outputId": "dc386f82-e5d8-427a-c723-00d4bc42aedf",
        "colab": {
          "base_uri": "https://localhost:8080/",
          "height": 35
        }
      },
      "outputs": [
        {
          "output_type": "execute_result",
          "data": {
            "text/plain": [
              "'cuda'"
            ],
            "application/vnd.google.colaboratory.intrinsic+json": {
              "type": "string"
            }
          },
          "metadata": {},
          "execution_count": 29
        }
      ],
      "source": [
        "# Agnostic Code\n",
        "device = \"cuda\" if torch.cuda.is_available() else \"cpu\"\n",
        "device"
      ]
    },
    {
      "cell_type": "code",
      "source": [
        "model.to(device)"
      ],
      "metadata": {
        "id": "dmyT_Xh-Rrde",
        "outputId": "fffc6dde-4064-4bb7-80aa-5827295eb015",
        "colab": {
          "base_uri": "https://localhost:8080/"
        }
      },
      "execution_count": 32,
      "outputs": [
        {
          "output_type": "execute_result",
          "data": {
            "text/plain": [
              "ModelCV2(\n",
              "  (conv1): Conv2d(1, 64, kernel_size=(3, 3), stride=(1, 1))\n",
              "  (relu1): ReLU()\n",
              "  (flatten): Flatten(start_dim=1, end_dim=-1)\n",
              "  (fc1): Linear(in_features=43264, out_features=64, bias=True)\n",
              "  (relu2): ReLU()\n",
              "  (fc2): Linear(in_features=64, out_features=10, bias=True)\n",
              ")"
            ]
          },
          "metadata": {},
          "execution_count": 32
        }
      ]
    },
    {
      "cell_type": "code",
      "execution_count": 33,
      "metadata": {
        "id": "q_eGeCfPviJs"
      },
      "outputs": [],
      "source": [
        "# NO modifiques esta celda ♥\n",
        "def accuracy_fn(y_true, y_pred):\n",
        "  correct = torch.eq(y_true, y_pred).sum().item()\n",
        "  acc = (correct/len(y_pred)) * 100\n",
        "  return acc"
      ]
    },
    {
      "cell_type": "markdown",
      "metadata": {
        "id": "C9TLWnjcNC_L"
      },
      "source": [
        "# 🚀 Entrenamiento del Modelo  \n",
        "\n",
        "Ahora entrenaremos nuestra red neuronal para que aprenda a clasificar las imágenes del dataset.  \n",
        "\n",
        "🔄 **Proceso de entrenamiento:**  \n",
        "1️⃣ Se envían imágenes al modelo.  \n",
        "2️⃣ El modelo realiza predicciones.  \n",
        "3️⃣ Se calcula la **pérdida (loss)** comparando predicciones con etiquetas reales.  \n",
        "4️⃣ Se ajustan los pesos con el **optimizador**.  \n",
        "5️⃣ Se repite el proceso en varias **épocas (epochs)** hasta mejorar el desempeño.  \n"
      ]
    },
    {
      "cell_type": "code",
      "execution_count": 34,
      "metadata": {
        "id": "x7SmLESZtObr",
        "outputId": "5b9a5393-0c97-4242-eb70-82ebc75e90e4",
        "colab": {
          "base_uri": "https://localhost:8080/",
          "height": 66,
          "referenced_widgets": [
            "a6b2b17c2da24bcfa86ed4071d6418a0",
            "67d8c20ac75e4c6ca69cf20c355e85be",
            "0eb0a6170d9f435f9bc9e89142074f23",
            "47d3827ffa564332b7594b64fb8146a1",
            "2abcb341522b482ba3726d60bd8c83cf",
            "62c5c785ed6c4bf297282033fd17dc8d",
            "69896daf2f8b4d9e910eabd40cf79079",
            "96175331ffc546b9aef7a682f036b920",
            "2a4794ae798b413998f16b8ccf5094ee",
            "1e2862b5a8974b86ae626a2f45087cdf",
            "eb0a36aa2bc24e8d9bb22ffae5ac3e6b"
          ]
        }
      },
      "outputs": [
        {
          "output_type": "display_data",
          "data": {
            "text/plain": [
              "  0%|          | 0/1 [00:00<?, ?it/s]"
            ],
            "application/vnd.jupyter.widget-view+json": {
              "version_major": 2,
              "version_minor": 0,
              "model_id": "a6b2b17c2da24bcfa86ed4071d6418a0"
            }
          },
          "metadata": {}
        },
        {
          "output_type": "stream",
          "name": "stdout",
          "text": [
            "epoch: 0 | Train loss: 0.62692, train acc: 77.66 | Test loss: 0.48638, test acc: 82.26\n"
          ]
        }
      ],
      "source": [
        "from tqdm.auto import tqdm\n",
        "torch.manual_seed(42)\n",
        "epochs = 1\n",
        "\n",
        "for epoch in tqdm(range(epochs)):\n",
        "  train_loss = 0\n",
        "  train_acc = 0\n",
        "  for batch, (X_train, y_train) in enumerate(train_dataloader):\n",
        "    model.train()\n",
        "    X_train, y_train = X_train.to(device), y_train.to(device)\n",
        "    y_train_logits = model(X_train) #forward pass\n",
        "\n",
        "    # calculamos la funcion de perdida\n",
        "    loss = loss_fn(y_train_logits, y_train)\n",
        "    train_loss += loss\n",
        "    train_acc += accuracy_fn(y_true = y_train, y_pred = y_train_logits.argmax(dim=1))\n",
        "    # optimizer zero grad\n",
        "    optimizer.zero_grad()\n",
        "    # retropropagacion\n",
        "    loss.backward()\n",
        "    # optimizer step step step\n",
        "    optimizer.step()\n",
        "  train_loss /= len(train_dataloader)\n",
        "  train_acc /= len(train_dataloader)\n",
        "  model.eval()\n",
        "  with torch.no_grad():\n",
        "    test_loss = 0\n",
        "    test_acc = 0\n",
        "    for X_test, y_test in test_dataloader:\n",
        "      X_test, y_test = X_test.to(device), y_test.to(device)\n",
        "      #forward pass\n",
        "      y_test_logits = model(X_test)\n",
        "      # calcular la loss\n",
        "      test_loss += loss_fn(y_test_logits, y_test)\n",
        "      test_acc += accuracy_fn(y_true = y_test, y_pred = y_test_logits.argmax(dim=1))\n",
        "    test_loss /= len(test_dataloader)\n",
        "    test_acc /= len(test_dataloader)\n",
        "  print(f\"epoch: {epoch} | Train loss: {train_loss:.5f}, train acc: {train_acc:.2f} | Test loss: {test_loss:.5f}, test acc: {test_acc:.2f}\")"
      ]
    },
    {
      "cell_type": "markdown",
      "metadata": {
        "id": "0pvwP0_2NPnx"
      },
      "source": [
        "# 📊 Evaluación del Modelo  \n",
        "\n",
        "Después del entrenamiento, es momento de evaluar el desempeño de nuestra red neuronal.  \n",
        "\n",
        "🛠️ **Proceso de evaluación:**  \n",
        "1️⃣ Se usa el **TestDataloader** para pasar imágenes de prueba al modelo.  \n",
        "2️⃣ Se comparan las predicciones con las etiquetas reales.  \n",
        "3️⃣ Se calcula la **precisión (accuracy)** y otras métricas de rendimiento.  \n",
        "\n",
        "📌 Esto nos ayuda a entender si el modelo **generaliza bien** o si necesita mejoras.  "
      ]
    },
    {
      "cell_type": "code",
      "execution_count": 41,
      "metadata": {
        "id": "EDF1QNqnvULg",
        "outputId": "4b84f7bc-41e5-4586-86fc-d79e6f14fe82",
        "colab": {
          "base_uri": "https://localhost:8080/",
          "height": 101,
          "referenced_widgets": [
            "746570edb0e34b90a93364905013485c",
            "bc102d9f82e8477694f71d26883e5e6d",
            "4d325e18cff14da0ad00e4f4108fe6f4",
            "641c37ffdb2d45df802a2749d9a3115d",
            "f74a80f240fb42d1816a81d67d2f9fc4",
            "e088a20ad0bb46d6a5245584bd11da49",
            "4c90009fb2774f26866eb7efad18c350",
            "e896abc047814d41b5d575e6fa939182",
            "3f2957d76e764dd09e5c4238cb8fa030",
            "f0e35a944da041199a55a86e4994cdb1",
            "154f7e04126049b8beb3dcdf8b2f8106"
          ]
        }
      },
      "outputs": [
        {
          "output_type": "display_data",
          "data": {
            "text/plain": [
              "  0%|          | 0/313 [00:00<?, ?it/s]"
            ],
            "application/vnd.jupyter.widget-view+json": {
              "version_major": 2,
              "version_minor": 0,
              "model_id": "746570edb0e34b90a93364905013485c"
            }
          },
          "metadata": {}
        },
        {
          "output_type": "execute_result",
          "data": {
            "text/plain": [
              "{'model_name': 'ModelCV2',\n",
              " 'model_loss': 0.4863832890987396,\n",
              " 'model_acc': 82.25838658146965}"
            ]
          },
          "metadata": {},
          "execution_count": 41
        }
      ],
      "source": [
        "torch.manual_seed(42)\n",
        "\n",
        "def eval_model(model:torch.nn.Module,\n",
        "               data_loader: torch.utils.data.DataLoader,\n",
        "               loss_fn: torch.nn.Module,\n",
        "               accuracy_fn):\n",
        "    \"\"\" retorna un diccionario que contiene las predicciones del modelo\"\"\"\n",
        "    loss, acc = 0, 0\n",
        "    model.eval()\n",
        "\n",
        "    with torch.no_grad():\n",
        "      for X, y in tqdm(data_loader):\n",
        "        X, y = X.to(device), y.to(device)\n",
        "        #make predictions\n",
        "        y_pred = model(X)\n",
        "\n",
        "        # Accumulate the loss and acc values per batch\n",
        "\n",
        "        loss += loss_fn(y_pred, y)\n",
        "        acc += accuracy_fn(y_true = y, y_pred = y_pred.argmax(dim=1))\n",
        "      # scale the loss and acc to find the average loss and acc per batch\n",
        "\n",
        "      loss /= len(data_loader)\n",
        "      acc /= len(data_loader)\n",
        "    return {\"model_name\": model.__class__.__name__,\n",
        "            \"model_loss\": loss.item(),\n",
        "            \"model_acc\": acc}\n",
        "model_0_results = eval_model(model = model,\n",
        "                             data_loader = test_dataloader,\n",
        "                             loss_fn =  loss_fn,\n",
        "                             accuracy_fn=accuracy_fn)\n",
        "model_0_results"
      ]
    },
    {
      "cell_type": "markdown",
      "metadata": {
        "id": "VHMUbLLPNkpL"
      },
      "source": [
        "## 🎨 Visualización de las Predicciones del Modelo  \n",
        "\n",
        "Para entender mejor el desempeño del modelo, vamos a **visualizar algunas predicciones**.  \n",
        "\n",
        "📸 **Proceso:**  \n",
        "1️⃣ Tomamos algunas imágenes del conjunto de prueba.  \n",
        "2️⃣ El modelo genera una predicción para cada imagen.  \n",
        "3️⃣ Comparamos la predicción con la etiqueta real.  \n",
        "4️⃣ Mostramos las imágenes junto con sus etiquetas y predicciones.  \n",
        "\n",
        "📌 Esto nos permite identificar posibles **errores** y mejorar el modelo si es necesario.  \n"
      ]
    },
    {
      "cell_type": "code",
      "execution_count": 42,
      "metadata": {
        "id": "V_z3lCdjwrsV"
      },
      "outputs": [],
      "source": [
        "# NO modifiques esta celda ♥\n",
        "def make_predictions(model:torch.nn.Module,\n",
        "                     data: list,\n",
        "                     device: torch.device = device):\n",
        "  pred_probs = []\n",
        "  model.to(device)\n",
        "  model.eval()\n",
        "  with torch.no_grad():\n",
        "    for sample in data:\n",
        "      #add a bacth dimension and pass to target device\n",
        "      sample = torch.unsqueeze(sample, dim=0).to(device)\n",
        "\n",
        "      pred_logit =  model(sample)\n",
        "\n",
        "      pred_prob = torch.softmax(pred_logit.squeeze(), dim=0)\n",
        "\n",
        "      #get pred_prob off the gpu\n",
        "      pred_probs.append(pred_prob.cpu())\n",
        "\n",
        "  #stack the pred_probs to turn list into a tensor\n",
        "  return torch.stack(pred_probs)"
      ]
    },
    {
      "cell_type": "code",
      "execution_count": 43,
      "metadata": {
        "id": "69e9M5HNwzCF",
        "outputId": "09916686-6e25-43b0-a353-5283f7491bb0",
        "colab": {
          "base_uri": "https://localhost:8080/"
        }
      },
      "outputs": [
        {
          "output_type": "execute_result",
          "data": {
            "text/plain": [
              "Dataset FashionMNIST\n",
              "    Number of datapoints: 10000\n",
              "    Root location: data\n",
              "    Split: Test\n",
              "    StandardTransform\n",
              "Transform: ToTensor()"
            ]
          },
          "metadata": {},
          "execution_count": 43
        }
      ],
      "source": [
        "test_data"
      ]
    },
    {
      "cell_type": "code",
      "execution_count": 44,
      "metadata": {
        "id": "IALu1obTwz_J",
        "outputId": "7e8bac2e-b87a-47ce-8191-83bf8b895a0a",
        "colab": {
          "base_uri": "https://localhost:8080/"
        }
      },
      "outputs": [
        {
          "output_type": "execute_result",
          "data": {
            "text/plain": [
              "torch.Size([1, 28, 28])"
            ]
          },
          "metadata": {},
          "execution_count": 44
        }
      ],
      "source": [
        "import random\n",
        "# random.seed(42)\n",
        "test_samples = []\n",
        "test_labels = []\n",
        "for sample, label in random.sample(list(test_data), k=9):\n",
        "  test_samples.append(sample)\n",
        "  test_labels.append(label)\n",
        "test_samples[0].shape"
      ]
    },
    {
      "cell_type": "code",
      "execution_count": 45,
      "metadata": {
        "id": "REXUjOm-w1Bw",
        "outputId": "5f476365-794a-47ea-ab61-c9874bb5b433",
        "colab": {
          "base_uri": "https://localhost:8080/",
          "height": 469
        }
      },
      "outputs": [
        {
          "output_type": "execute_result",
          "data": {
            "text/plain": [
              "Text(0.5, 1.0, 'Dress')"
            ]
          },
          "metadata": {},
          "execution_count": 45
        },
        {
          "output_type": "display_data",
          "data": {
            "text/plain": [
              "<Figure size 640x480 with 1 Axes>"
            ],
            "image/png": "[encoded data removed]"
          },
          "metadata": {}
        }
      ],
      "source": [
        "plt.imshow(test_samples[0].squeeze(), cmap=\"gray\")\n",
        "plt.title(class_names[test_labels[0]])"
      ]
    },
    {
      "cell_type": "code",
      "execution_count": 47,
      "metadata": {
        "id": "Z4cR3y97w1_o",
        "outputId": "c1246ad7-3464-41ad-b3d5-18330941b9ec",
        "colab": {
          "base_uri": "https://localhost:8080/"
        }
      },
      "outputs": [
        {
          "output_type": "execute_result",
          "data": {
            "text/plain": [
              "tensor([[2.4133e-01, 1.5712e-01, 1.7473e-02, 4.1905e-01, 5.5610e-03, 3.0211e-02,\n",
              "         4.4039e-02, 1.7112e-02, 6.2821e-02, 5.2725e-03],\n",
              "        [1.1953e-04, 2.3580e-04, 9.1347e-02, 3.5033e-05, 7.9797e-01, 3.5741e-05,\n",
              "         1.0857e-01, 2.2002e-06, 1.6719e-03, 6.1621e-06]])"
            ]
          },
          "metadata": {},
          "execution_count": 47
        }
      ],
      "source": [
        "# Hacemos predicciones\n",
        "pred_probs = make_predictions(model=model,\n",
        "                              data=test_samples,\n",
        "                              )\n",
        "#miremos👀\n",
        "pred_probs[:2]"
      ]
    },
    {
      "cell_type": "code",
      "execution_count": 48,
      "metadata": {
        "id": "EDSPURmHw28A",
        "outputId": "f23631aa-911d-47dc-e63f-9e405bcfaadb",
        "colab": {
          "base_uri": "https://localhost:8080/"
        }
      },
      "outputs": [
        {
          "output_type": "execute_result",
          "data": {
            "text/plain": [
              "(tensor([3, 4, 8, 1, 5, 8, 3, 2, 9]), [3, 4, 8, 1, 5, 8, 3, 2, 9])"
            ]
          },
          "metadata": {},
          "execution_count": 48
        }
      ],
      "source": [
        "# convertimos las probabilidades a clases\n",
        "pred_class = pred_probs.argmax(dim=1)\n",
        "pred_class, test_labels"
      ]
    },
    {
      "cell_type": "code",
      "execution_count": 49,
      "metadata": {
        "id": "mWnA0nzvw4Yh",
        "outputId": "2df39d64-1271-49a2-84da-1012836c9b87",
        "colab": {
          "base_uri": "https://localhost:8080/",
          "height": 749
        }
      },
      "outputs": [
        {
          "output_type": "display_data",
          "data": {
            "text/plain": [
              "<Figure size 900x900 with 9 Axes>"
            ],
            "image/png": "[encoded data removed]"
          },
          "metadata": {}
        }
      ],
      "source": [
        "# NO modifiques esta celda ♥\n",
        "plt.figure(figsize=(9,9))\n",
        "nrows = 3\n",
        "ncols = 3\n",
        "for i, sample in enumerate(test_samples):\n",
        "  plt.subplot(nrows, ncols, i+1)\n",
        "\n",
        "  #plot the target image\n",
        "  plt.imshow(sample.squeeze(), cmap = \"gray\")\n",
        "\n",
        "  #find the prediction label\n",
        "  pred_label = class_names[pred_class[i]]\n",
        "\n",
        "  #get the truth label\n",
        "  truth_label = class_names[test_labels[i]]\n",
        "\n",
        "  #create a tittle for the plot\n",
        "  tittle_text = f\"pred: {pred_label} | Truth: {truth_label}\"\n",
        "  if pred_label == truth_label:\n",
        "    plt.title(tittle_text, fontsize=10,c=\"g\")\n",
        "  else:\n",
        "    plt.title(tittle_text, fontsize=10,c=\"r\")\n",
        "  plt.axis(False)"
      ]
    },
    {
      "cell_type": "markdown",
      "metadata": {
        "id": "zFYUIlLKJ-Ac"
      },
      "source": [
        "## 🏗️ Implementación de TinyVGG  \n",
        "\n",
        "Vamos a construir **TinyVGG**, una versión simplificada de **VGGNet**, ideal para tareas de clasificación de imágenes.  \n",
        "\n",
        "⚙️ **Arquitectura de TinyVGG:**  \n",
        "🔹 Capas convolucionales (`Conv2d`) para extraer características.  \n",
        "🔹 Función de activación **ReLU** para introducir no linealidad.  \n",
        "🔹 Capas de **MaxPooling** para reducir la dimensionalidad.  \n",
        "🔹 Capas totalmente conectadas (`Linear`) para clasificar.  \n"
      ]
    },
    {
      "cell_type": "code",
      "execution_count": 50,
      "metadata": {
        "id": "Q_bRWVsrCzVI"
      },
      "outputs": [],
      "source": [
        "#Test yourself try to replicate tinyvgg -> https://poloclub.github.io/cnn-explainer/\n",
        "class FashionMNISTModelV2(nn.Module):\n",
        "  def __init__(self, input_shape, hidden_units, output_shape):\n",
        "    super().__init__()\n",
        "    \"\"\"\n",
        "    Model Architecture that replicates the TinyVGG\n",
        "    model from CNN explainer website\n",
        "    \"\"\"\n",
        "    self.conv_blocl_1 = nn.Sequential(\n",
        "\n",
        "    )\n",
        "    self.conv_blocl_2 = nn.Sequential(\n",
        "\n",
        "    )\n",
        "    self.classifier = nn.Sequential(\n",
        "    )\n",
        "\n",
        "  def forward(self,x):\n",
        "    x = self.conv_blocl_1(x)\n",
        "    # print(x.shape)\n",
        "    x = self.conv_blocl_2(x)\n",
        "    # print(x.shape)\n",
        "    x = self.classifier(x)\n",
        "    # print(x.shape)\n",
        "    return x"
      ]
    },
    {
      "cell_type": "code",
      "execution_count": 51,
      "metadata": {
        "colab": {
          "base_uri": "https://localhost:8080/"
        },
        "id": "OzYXghxfC1n1",
        "outputId": "c04e2cd1-c5a6-48eb-bfcf-a052ea6bbfe6"
      },
      "outputs": [
        {
          "output_type": "execute_result",
          "data": {
            "text/plain": [
              "torch.Size([1, 28, 28])"
            ]
          },
          "metadata": {},
          "execution_count": 51
        }
      ],
      "source": [
        "image.shape"
      ]
    },
    {
      "cell_type": "code",
      "execution_count": 52,
      "metadata": {
        "colab": {
          "base_uri": "https://localhost:8080/",
          "height": 35
        },
        "id": "eNCoeHw4C8a5",
        "outputId": "2a3a424f-bb94-45a3-da16-fe0c1f610ed9"
      },
      "outputs": [
        {
          "output_type": "execute_result",
          "data": {
            "text/plain": [
              "'cuda'"
            ],
            "application/vnd.google.colaboratory.intrinsic+json": {
              "type": "string"
            }
          },
          "metadata": {},
          "execution_count": 52
        }
      ],
      "source": [
        "device = \"cuda\" if torch.cuda.is_available() else \"cpu\"\n",
        "device"
      ]
    },
    {
      "cell_type": "code",
      "execution_count": 53,
      "metadata": {
        "id": "TMTKkcHHC6cy"
      },
      "outputs": [],
      "source": [
        "torch.manual_seed(42)\n",
        "model_2 = FashionMNISTModelV2(input_shape=1, # canales de la imagen\n",
        "                              hidden_units=10, # numero de filtros\n",
        "                              output_shape=len(class_names)\n",
        "                              ).to(device)\n",
        "# model_2.state_dict()"
      ]
    },
    {
      "cell_type": "markdown",
      "metadata": {
        "id": "iuCzQ7yPKDGR"
      },
      "source": [
        "### Loss function and optimizer"
      ]
    },
    {
      "cell_type": "code",
      "execution_count": 55,
      "metadata": {
        "id": "CzvjWHVPDIGm",
        "outputId": "d5b46917-2b96-4a7c-c9c6-9acf8b824b03",
        "colab": {
          "base_uri": "https://localhost:8080/",
          "height": 321
        }
      },
      "outputs": [
        {
          "output_type": "error",
          "ename": "ValueError",
          "evalue": "optimizer got an empty parameter list",
          "traceback": [
            "\u001b[0;31m---------------------------------------------------------------------------\u001b[0m",
            "\u001b[0;31mValueError\u001b[0m                                Traceback (most recent call last)",
            "\u001b[0;32m<ipython-input-55-6bfd21a95109>\u001b[0m in \u001b[0;36m<cell line: 0>\u001b[0;34m()\u001b[0m\n\u001b[1;32m      1\u001b[0m \u001b[0mloss_fn\u001b[0m \u001b[0;34m=\u001b[0m \u001b[0mnn\u001b[0m\u001b[0;34m.\u001b[0m\u001b[0mCrossEntropyLoss\u001b[0m\u001b[0;34m(\u001b[0m\u001b[0;34m)\u001b[0m \u001b[0;31m# <-- ¿Por qué este?\u001b[0m\u001b[0;34m\u001b[0m\u001b[0;34m\u001b[0m\u001b[0m\n\u001b[1;32m      2\u001b[0m \u001b[0;31m#cambialos si quieres\u001b[0m\u001b[0;34m\u001b[0m\u001b[0;34m\u001b[0m\u001b[0m\n\u001b[0;32m----> 3\u001b[0;31m \u001b[0moptimizer\u001b[0m \u001b[0;34m=\u001b[0m \u001b[0mtorch\u001b[0m\u001b[0;34m.\u001b[0m\u001b[0moptim\u001b[0m\u001b[0;34m.\u001b[0m\u001b[0mSGD\u001b[0m\u001b[0;34m(\u001b[0m\u001b[0mparams\u001b[0m \u001b[0;34m=\u001b[0m \u001b[0mmodel_2\u001b[0m\u001b[0;34m.\u001b[0m\u001b[0mparameters\u001b[0m\u001b[0;34m(\u001b[0m\u001b[0;34m)\u001b[0m\u001b[0;34m,\u001b[0m \u001b[0mlr\u001b[0m\u001b[0;34m=\u001b[0m\u001b[0;36m0.01\u001b[0m\u001b[0;34m)\u001b[0m \u001b[0;31m# < -- ¿Por qué este?\u001b[0m\u001b[0;34m\u001b[0m\u001b[0;34m\u001b[0m\u001b[0m\n\u001b[0m",
            "\u001b[0;32m/usr/local/lib/python3.11/dist-packages/torch/optim/sgd.py\u001b[0m in \u001b[0;36m__init__\u001b[0;34m(self, params, lr, momentum, dampening, weight_decay, nesterov, maximize, foreach, differentiable, fused)\u001b[0m\n\u001b[1;32m     61\u001b[0m         \u001b[0;32mif\u001b[0m \u001b[0mnesterov\u001b[0m \u001b[0;32mand\u001b[0m \u001b[0;34m(\u001b[0m\u001b[0mmomentum\u001b[0m \u001b[0;34m<=\u001b[0m \u001b[0;36m0\u001b[0m \u001b[0;32mor\u001b[0m \u001b[0mdampening\u001b[0m \u001b[0;34m!=\u001b[0m \u001b[0;36m0\u001b[0m\u001b[0;34m)\u001b[0m\u001b[0;34m:\u001b[0m\u001b[0;34m\u001b[0m\u001b[0;34m\u001b[0m\u001b[0m\n\u001b[1;32m     62\u001b[0m             \u001b[0;32mraise\u001b[0m \u001b[0mValueError\u001b[0m\u001b[0;34m(\u001b[0m\u001b[0;34m\"Nesterov momentum requires a momentum and zero dampening\"\u001b[0m\u001b[0;34m)\u001b[0m\u001b[0;34m\u001b[0m\u001b[0;34m\u001b[0m\u001b[0m\n\u001b[0;32m---> 63\u001b[0;31m         \u001b[0msuper\u001b[0m\u001b[0;34m(\u001b[0m\u001b[0;34m)\u001b[0m\u001b[0;34m.\u001b[0m\u001b[0m__init__\u001b[0m\u001b[0;34m(\u001b[0m\u001b[0mparams\u001b[0m\u001b[0;34m,\u001b[0m \u001b[0mdefaults\u001b[0m\u001b[0;34m)\u001b[0m\u001b[0;34m\u001b[0m\u001b[0;34m\u001b[0m\u001b[0m\n\u001b[0m\u001b[1;32m     64\u001b[0m \u001b[0;34m\u001b[0m\u001b[0m\n\u001b[1;32m     65\u001b[0m         \u001b[0;32mif\u001b[0m \u001b[0mfused\u001b[0m\u001b[0;34m:\u001b[0m\u001b[0;34m\u001b[0m\u001b[0;34m\u001b[0m\u001b[0m\n",
            "\u001b[0;32m/usr/local/lib/python3.11/dist-packages/torch/optim/optimizer.py\u001b[0m in \u001b[0;36m__init__\u001b[0;34m(self, params, defaults)\u001b[0m\n\u001b[1;32m    370\u001b[0m         \u001b[0mparam_groups\u001b[0m \u001b[0;34m=\u001b[0m \u001b[0mlist\u001b[0m\u001b[0;34m(\u001b[0m\u001b[0mparams\u001b[0m\u001b[0;34m)\u001b[0m\u001b[0;34m\u001b[0m\u001b[0;34m\u001b[0m\u001b[0m\n\u001b[1;32m    371\u001b[0m         \u001b[0;32mif\u001b[0m \u001b[0mlen\u001b[0m\u001b[0;34m(\u001b[0m\u001b[0mparam_groups\u001b[0m\u001b[0;34m)\u001b[0m \u001b[0;34m==\u001b[0m \u001b[0;36m0\u001b[0m\u001b[0;34m:\u001b[0m\u001b[0;34m\u001b[0m\u001b[0;34m\u001b[0m\u001b[0m\n\u001b[0;32m--> 372\u001b[0;31m             \u001b[0;32mraise\u001b[0m \u001b[0mValueError\u001b[0m\u001b[0;34m(\u001b[0m\u001b[0;34m\"optimizer got an empty parameter list\"\u001b[0m\u001b[0;34m)\u001b[0m\u001b[0;34m\u001b[0m\u001b[0;34m\u001b[0m\u001b[0m\n\u001b[0m\u001b[1;32m    373\u001b[0m         \u001b[0;32mif\u001b[0m \u001b[0;32mnot\u001b[0m \u001b[0misinstance\u001b[0m\u001b[0;34m(\u001b[0m\u001b[0mparam_groups\u001b[0m\u001b[0;34m[\u001b[0m\u001b[0;36m0\u001b[0m\u001b[0;34m]\u001b[0m\u001b[0;34m,\u001b[0m \u001b[0mdict\u001b[0m\u001b[0;34m)\u001b[0m\u001b[0;34m:\u001b[0m\u001b[0;34m\u001b[0m\u001b[0;34m\u001b[0m\u001b[0m\n\u001b[1;32m    374\u001b[0m             \u001b[0mparam_groups\u001b[0m \u001b[0;34m=\u001b[0m \u001b[0;34m[\u001b[0m\u001b[0;34m{\u001b[0m\u001b[0;34m\"params\"\u001b[0m\u001b[0;34m:\u001b[0m \u001b[0mparam_groups\u001b[0m\u001b[0;34m}\u001b[0m\u001b[0;34m]\u001b[0m\u001b[0;34m\u001b[0m\u001b[0;34m\u001b[0m\u001b[0m\n",
            "\u001b[0;31mValueError\u001b[0m: optimizer got an empty parameter list"
          ]
        }
      ],
      "source": [
        "loss_fn = nn.CrossEntropyLoss() # <-- ¿Por qué este?\n",
        "#cambialos si quieres\n",
        "optimizer = torch.optim.SGD(params = model_2.parameters(), lr=0.01) # < -- ¿Por qué este?"
      ]
    },
    {
      "cell_type": "code",
      "execution_count": null,
      "metadata": {
        "id": "D5V1_vDpDRPr"
      },
      "outputs": [],
      "source": [
        "# DO NOT change this\n",
        "def accuracy_fn(y_true, y_pred):\n",
        "  correct = torch.eq(y_true, y_pred).sum().item()\n",
        "  acc = (correct/len(y_pred)) * 100\n",
        "  return acc"
      ]
    },
    {
      "cell_type": "markdown",
      "metadata": {
        "id": "BYmkvHNcHpxx"
      },
      "source": [
        "##Train fuction"
      ]
    },
    {
      "cell_type": "code",
      "execution_count": 56,
      "metadata": {
        "colab": {
          "base_uri": "https://localhost:8080/",
          "height": 349
        },
        "id": "BiT1ilDNDL9e",
        "outputId": "73eea2ad-8160-4926-9692-6c5ac4aab0f8"
      },
      "outputs": [
        {
          "output_type": "stream",
          "name": "stderr",
          "text": [
            "<>:11: SyntaxWarning: 'str' object is not callable; perhaps you missed a comma?\n",
            "<>:32: SyntaxWarning: 'str' object is not callable; perhaps you missed a comma?\n",
            "<>:11: SyntaxWarning: 'str' object is not callable; perhaps you missed a comma?\n",
            "<>:32: SyntaxWarning: 'str' object is not callable; perhaps you missed a comma?\n",
            "<ipython-input-56-072318c3c862>:11: SyntaxWarning: 'str' object is not callable; perhaps you missed a comma?\n",
            "  y_train_logits = \"FIXME\"(\"FIXME\") #forward pass\n",
            "<ipython-input-56-072318c3c862>:32: SyntaxWarning: 'str' object is not callable; perhaps you missed a comma?\n",
            "  y_test_logits = \"FIXME\"(\"FIXME\")\n"
          ]
        },
        {
          "output_type": "error",
          "ename": "TypeError",
          "evalue": "'str' object cannot be interpreted as an integer",
          "traceback": [
            "\u001b[0;31m---------------------------------------------------------------------------\u001b[0m",
            "\u001b[0;31mTypeError\u001b[0m                                 Traceback (most recent call last)",
            "\u001b[0;32m<ipython-input-56-072318c3c862>\u001b[0m in \u001b[0;36m<cell line: 0>\u001b[0;34m()\u001b[0m\n\u001b[1;32m      3\u001b[0m \u001b[0mepochs\u001b[0m \u001b[0;34m=\u001b[0m \u001b[0;34m\"FIXME\"\u001b[0m\u001b[0;34m\u001b[0m\u001b[0;34m\u001b[0m\u001b[0m\n\u001b[1;32m      4\u001b[0m \u001b[0;34m\u001b[0m\u001b[0m\n\u001b[0;32m----> 5\u001b[0;31m \u001b[0;32mfor\u001b[0m \u001b[0mepoch\u001b[0m \u001b[0;32min\u001b[0m \u001b[0mtqdm\u001b[0m\u001b[0;34m(\u001b[0m\u001b[0mrange\u001b[0m\u001b[0;34m(\u001b[0m\u001b[0mepochs\u001b[0m\u001b[0;34m)\u001b[0m\u001b[0;34m)\u001b[0m\u001b[0;34m:\u001b[0m\u001b[0;34m\u001b[0m\u001b[0;34m\u001b[0m\u001b[0m\n\u001b[0m\u001b[1;32m      6\u001b[0m   \u001b[0mtrain_loss\u001b[0m \u001b[0;34m=\u001b[0m \u001b[0;36m0\u001b[0m\u001b[0;34m\u001b[0m\u001b[0;34m\u001b[0m\u001b[0m\n\u001b[1;32m      7\u001b[0m   \u001b[0mtrain_acc\u001b[0m \u001b[0;34m=\u001b[0m \u001b[0;36m0\u001b[0m\u001b[0;34m\u001b[0m\u001b[0;34m\u001b[0m\u001b[0m\n",
            "\u001b[0;31mTypeError\u001b[0m: 'str' object cannot be interpreted as an integer"
          ]
        }
      ],
      "source": [
        "from tqdm.auto import tqdm\n",
        "torch.manual_seed(42)\n",
        "epochs = \"FIXME\"\n",
        "\n",
        "for epoch in tqdm(range(epochs)):\n",
        "  train_loss = 0\n",
        "  train_acc = 0\n",
        "  for batch, (X_train, y_train) in enumerate(train_dataloader):\n",
        "    \"FIXME\".train()\n",
        "    X_train, y_train = X_train.to(device), y_train.to(device)\n",
        "    y_train_logits = \"FIXME\"(\"FIXME\") #forward pass\n",
        "\n",
        "    # calcula la loss\n",
        "    loss = loss_fn(y_train_logits, y_train)\n",
        "    train_loss += loss\n",
        "    train_acc += accuracy_fn(y_true = y_train, y_pred = y_train_logits.argmax(dim=1))\n",
        "    # optimizer zero grad\n",
        "    \"FIXME\"\n",
        "    # loss backward\n",
        "    \"FIXME\"\n",
        "    # optimizer step step step\n",
        "    \"FIXME\"\n",
        "  train_loss /= len(train_dataloader) # <- Why we should divide?\n",
        "  train_acc /= len(train_dataloader)\n",
        "  \"FIXME\".eval()\n",
        "  with torch.no_grad():\n",
        "    test_loss = 0\n",
        "    test_acc = 0\n",
        "    for X_test, y_test in test_dataloader:\n",
        "      X_test, y_test = X_test.to(device), y_test.to(device)\n",
        "      #do the forward pass\n",
        "      y_test_logits = \"FIXME\"(\"FIXME\")\n",
        "      #calculate the loss\n",
        "      test_loss += loss_fn(y_test_logits, y_test)\n",
        "      test_acc += accuracy_fn(y_true = y_test, y_pred = y_test_logits.argmax(dim=1))\n",
        "    test_loss /= len(\"FIXME\")\n",
        "    test_acc /= len(\"FIXME\")\n",
        "  print(f\"epoch: {epoch} | Train loss: {train_loss:.5f}, train acc: {train_acc:.2f} | Test loss: {test_loss:.5f}, test acc: {test_acc:.2f}\")"
      ]
    },
    {
      "cell_type": "code",
      "execution_count": null,
      "metadata": {
        "id": "i6HO9K35DtxP"
      },
      "outputs": [],
      "source": [
        "torch.manual_seed(42)\n",
        "\n",
        "def eval_model(model:torch.nn.Module,\n",
        "               data_loader: torch.utils.data.DataLoader,\n",
        "               loss_fn: torch.nn.Module,\n",
        "               accuracy_fn):\n",
        "    \"\"\" returns a dictionary containing the results of model predicting on data_loader\"\"\"\n",
        "    loss, acc = 0, 0\n",
        "    model.eval()\n",
        "\n",
        "    with torch.no_grad():\n",
        "      for X, y in tqdm(data_loader):\n",
        "        #make predictions\n",
        "        y_pred = model(X)\n",
        "\n",
        "        # Accumulate the loss and acc values per batch\n",
        "\n",
        "        loss += loss_fn(y_pred, y)\n",
        "        acc += accuracy_fn(y_true = y, y_pred = y_pred.argmax(dim=1))\n",
        "      # scale the loss and acc to find the average loss and acc per batch\n",
        "\n",
        "      loss /= len(data_loader)\n",
        "      acc /= len(data_loader)\n",
        "    return {\"model_name\": model.__class__.__name__,\n",
        "            \"model_loss\": loss.item(),\n",
        "            \"model_acc\": acc}\n",
        "model_0_results = eval_model(model=\"FIXME\",\n",
        "                             data_loader = test_dataloader,\n",
        "                             loss_fn =  loss_fn,\n",
        "                             accuracy_fn=accuracy_fn)\n",
        "model_0_results"
      ]
    },
    {
      "cell_type": "markdown",
      "metadata": {
        "id": "sy4ffJRXOWse"
      },
      "source": [
        "# 📋 Resumen del Modelo  \n",
        "\n",
        "Después de construir nuestra red, es importante revisar su **estructura y cantidad de parámetros**.  \n",
        "\n",
        "📌 **El resumen del modelo nos muestra:**  \n",
        "🔹 Las capas de la red y sus dimensiones.  \n",
        "🔹 La cantidad de parámetros entrenables.  \n",
        "🔹 La conexión entre cada capa.  \n",
        "\n",
        "✅ En `PyTorch`, podemos usar `print(model)` o `torchsummary.summary(model, input_size=(C, H, W))` para visualizarlo.  \n"
      ]
    },
    {
      "cell_type": "code",
      "execution_count": null,
      "metadata": {
        "id": "eX3UIP4IHNxb"
      },
      "outputs": [],
      "source": [
        "%%capture\n",
        "! pip install torchinfo"
      ]
    },
    {
      "cell_type": "code",
      "execution_count": null,
      "metadata": {
        "id": "MfRfhe2EHKoi"
      },
      "outputs": [],
      "source": [
        "import torchinfo\n",
        "torchinfo.summary(\"FIXME\")"
      ]
    }
  ],
  "metadata": {
    "colab": {
      "provenance": [],
      "toc_visible": true,
      "gpuType": "T4"
    },
    "kernelspec": {
      "display_name": "Python 3",
      "name": "python3"
    },
    "language_info": {
      "name": "python"
    },
    "widgets": {
      "application/vnd.jupyter.widget-state+json": {
        "a6b2b17c2da24bcfa86ed4071d6418a0": {
          "model_module": "@jupyter-widgets/controls",
          "model_name": "HBoxModel",
          "model_module_version": "1.5.0",
          "state": {
            "_dom_classes": [],
            "_model_module": "@jupyter-widgets/controls",
            "_model_module_version": "1.5.0",
            "_model_name": "HBoxModel",
            "_view_count": null,
            "_view_module": "@jupyter-widgets/controls",
            "_view_module_version": "1.5.0",
            "_view_name": "HBoxView",
            "box_style": "",
            "children": [
              "IPY_MODEL_67d8c20ac75e4c6ca69cf20c355e85be",
              "IPY_MODEL_0eb0a6170d9f435f9bc9e89142074f23",
              "IPY_MODEL_47d3827ffa564332b7594b64fb8146a1"
            ],
            "layout": "IPY_MODEL_2abcb341522b482ba3726d60bd8c83cf"
          }
        },
        "67d8c20ac75e4c6ca69cf20c355e85be": {
          "model_module": "@jupyter-widgets/controls",
          "model_name": "HTMLModel",
          "model_module_version": "1.5.0",
          "state": {
            "_dom_classes": [],
            "_model_module": "@jupyter-widgets/controls",
            "_model_module_version": "1.5.0",
            "_model_name": "HTMLModel",
            "_view_count": null,
            "_view_module": "@jupyter-widgets/controls",
            "_view_module_version": "1.5.0",
            "_view_name": "HTMLView",
            "description": "",
            "description_tooltip": null,
            "layout": "IPY_MODEL_62c5c785ed6c4bf297282033fd17dc8d",
            "placeholder": "​",
            "style": "IPY_MODEL_69896daf2f8b4d9e910eabd40cf79079",
            "value": "100%"
          }
        },
        "0eb0a6170d9f435f9bc9e89142074f23": {
          "model_module": "@jupyter-widgets/controls",
          "model_name": "FloatProgressModel",
          "model_module_version": "1.5.0",
          "state": {
            "_dom_classes": [],
            "_model_module": "@jupyter-widgets/controls",
            "_model_module_version": "1.5.0",
            "_model_name": "FloatProgressModel",
            "_view_count": null,
            "_view_module": "@jupyter-widgets/controls",
            "_view_module_version": "1.5.0",
            "_view_name": "ProgressView",
            "bar_style": "success",
            "description": "",
            "description_tooltip": null,
            "layout": "IPY_MODEL_96175331ffc546b9aef7a682f036b920",
            "max": 1,
            "min": 0,
            "orientation": "horizontal",
            "style": "IPY_MODEL_2a4794ae798b413998f16b8ccf5094ee",
            "value": 1
          }
        },
        "47d3827ffa564332b7594b64fb8146a1": {
          "model_module": "@jupyter-widgets/controls",
          "model_name": "HTMLModel",
          "model_module_version": "1.5.0",
          "state": {
            "_dom_classes": [],
            "_model_module": "@jupyter-widgets/controls",
            "_model_module_version": "1.5.0",
            "_model_name": "HTMLModel",
            "_view_count": null,
            "_view_module": "@jupyter-widgets/controls",
            "_view_module_version": "1.5.0",
            "_view_name": "HTMLView",
            "description": "",
            "description_tooltip": null,
            "layout": "IPY_MODEL_1e2862b5a8974b86ae626a2f45087cdf",
            "placeholder": "​",
            "style": "IPY_MODEL_eb0a36aa2bc24e8d9bb22ffae5ac3e6b",
            "value": " 1/1 [00:11&lt;00:00, 11.20s/it]"
          }
        },
        "2abcb341522b482ba3726d60bd8c83cf": {
          "model_module": "@jupyter-widgets/base",
          "model_name": "LayoutModel",
          "model_module_version": "1.2.0",
          "state": {
            "_model_module": "@jupyter-widgets/base",
            "_model_module_version": "1.2.0",
            "_model_name": "LayoutModel",
            "_view_count": null,
            "_view_module": "@jupyter-widgets/base",
            "_view_module_version": "1.2.0",
            "_view_name": "LayoutView",
            "align_content": null,
            "align_items": null,
            "align_self": null,
            "border": null,
            "bottom": null,
            "display": null,
            "flex": null,
            "flex_flow": null,
            "grid_area": null,
            "grid_auto_columns": null,
            "grid_auto_flow": null,
            "grid_auto_rows": null,
            "grid_column": null,
            "grid_gap": null,
            "grid_row": null,
            "grid_template_areas": null,
            "grid_template_columns": null,
            "grid_template_rows": null,
            "height": null,
            "justify_content": null,
            "justify_items": null,
            "left": null,
            "margin": null,
            "max_height": null,
            "max_width": null,
            "min_height": null,
            "min_width": null,
            "object_fit": null,
            "object_position": null,
            "order": null,
            "overflow": null,
            "overflow_x": null,
            "overflow_y": null,
            "padding": null,
            "right": null,
            "top": null,
            "visibility": null,
            "width": null
          }
        },
        "62c5c785ed6c4bf297282033fd17dc8d": {
          "model_module": "@jupyter-widgets/base",
          "model_name": "LayoutModel",
          "model_module_version": "1.2.0",
          "state": {
            "_model_module": "@jupyter-widgets/base",
            "_model_module_version": "1.2.0",
            "_model_name": "LayoutModel",
            "_view_count": null,
            "_view_module": "@jupyter-widgets/base",
            "_view_module_version": "1.2.0",
            "_view_name": "LayoutView",
            "align_content": null,
            "align_items": null,
            "align_self": null,
            "border": null,
            "bottom": null,
            "display": null,
            "flex": null,
            "flex_flow": null,
            "grid_area": null,
            "grid_auto_columns": null,
            "grid_auto_flow": null,
            "grid_auto_rows": null,
            "grid_column": null,
            "grid_gap": null,
            "grid_row": null,
            "grid_template_areas": null,
            "grid_template_columns": null,
            "grid_template_rows": null,
            "height": null,
            "justify_content": null,
            "justify_items": null,
            "left": null,
            "margin": null,
            "max_height": null,
            "max_width": null,
            "min_height": null,
            "min_width": null,
            "object_fit": null,
            "object_position": null,
            "order": null,
            "overflow": null,
            "overflow_x": null,
            "overflow_y": null,
            "padding": null,
            "right": null,
            "top": null,
            "visibility": null,
            "width": null
          }
        },
        "69896daf2f8b4d9e910eabd40cf79079": {
          "model_module": "@jupyter-widgets/controls",
          "model_name": "DescriptionStyleModel",
          "model_module_version": "1.5.0",
          "state": {
            "_model_module": "@jupyter-widgets/controls",
            "_model_module_version": "1.5.0",
            "_model_name": "DescriptionStyleModel",
            "_view_count": null,
            "_view_module": "@jupyter-widgets/base",
            "_view_module_version": "1.2.0",
            "_view_name": "StyleView",
            "description_width": ""
          }
        },
        "96175331ffc546b9aef7a682f036b920": {
          "model_module": "@jupyter-widgets/base",
          "model_name": "LayoutModel",
          "model_module_version": "1.2.0",
          "state": {
            "_model_module": "@jupyter-widgets/base",
            "_model_module_version": "1.2.0",
            "_model_name": "LayoutModel",
            "_view_count": null,
            "_view_module": "@jupyter-widgets/base",
            "_view_module_version": "1.2.0",
            "_view_name": "LayoutView",
            "align_content": null,
            "align_items": null,
            "align_self": null,
            "border": null,
            "bottom": null,
            "display": null,
            "flex": null,
            "flex_flow": null,
            "grid_area": null,
            "grid_auto_columns": null,
            "grid_auto_flow": null,
            "grid_auto_rows": null,
            "grid_column": null,
            "grid_gap": null,
            "grid_row": null,
            "grid_template_areas": null,
            "grid_template_columns": null,
            "grid_template_rows": null,
            "height": null,
            "justify_content": null,
            "justify_items": null,
            "left": null,
            "margin": null,
            "max_height": null,
            "max_width": null,
            "min_height": null,
            "min_width": null,
            "object_fit": null,
            "object_position": null,
            "order": null,
            "overflow": null,
            "overflow_x": null,
            "overflow_y": null,
            "padding": null,
            "right": null,
            "top": null,
            "visibility": null,
            "width": null
          }
        },
        "2a4794ae798b413998f16b8ccf5094ee": {
          "model_module": "@jupyter-widgets/controls",
          "model_name": "ProgressStyleModel",
          "model_module_version": "1.5.0",
          "state": {
            "_model_module": "@jupyter-widgets/controls",
            "_model_module_version": "1.5.0",
            "_model_name": "ProgressStyleModel",
            "_view_count": null,
            "_view_module": "@jupyter-widgets/base",
            "_view_module_version": "1.2.0",
            "_view_name": "StyleView",
            "bar_color": null,
            "description_width": ""
          }
        },
        "1e2862b5a8974b86ae626a2f45087cdf": {
          "model_module": "@jupyter-widgets/base",
          "model_name": "LayoutModel",
          "model_module_version": "1.2.0",
          "state": {
            "_model_module": "@jupyter-widgets/base",
            "_model_module_version": "1.2.0",
            "_model_name": "LayoutModel",
            "_view_count": null,
            "_view_module": "@jupyter-widgets/base",
            "_view_module_version": "1.2.0",
            "_view_name": "LayoutView",
            "align_content": null,
            "align_items": null,
            "align_self": null,
            "border": null,
            "bottom": null,
            "display": null,
            "flex": null,
            "flex_flow": null,
            "grid_area": null,
            "grid_auto_columns": null,
            "grid_auto_flow": null,
            "grid_auto_rows": null,
            "grid_column": null,
            "grid_gap": null,
            "grid_row": null,
            "grid_template_areas": null,
            "grid_template_columns": null,
            "grid_template_rows": null,
            "height": null,
            "justify_content": null,
            "justify_items": null,
            "left": null,
            "margin": null,
            "max_height": null,
            "max_width": null,
            "min_height": null,
            "min_width": null,
            "object_fit": null,
            "object_position": null,
            "order": null,
            "overflow": null,
            "overflow_x": null,
            "overflow_y": null,
            "padding": null,
            "right": null,
            "top": null,
            "visibility": null,
            "width": null
          }
        },
        "eb0a36aa2bc24e8d9bb22ffae5ac3e6b": {
          "model_module": "@jupyter-widgets/controls",
          "model_name": "DescriptionStyleModel",
          "model_module_version": "1.5.0",
          "state": {
            "_model_module": "@jupyter-widgets/controls",
            "_model_module_version": "1.5.0",
            "_model_name": "DescriptionStyleModel",
            "_view_count": null,
            "_view_module": "@jupyter-widgets/base",
            "_view_module_version": "1.2.0",
            "_view_name": "StyleView",
            "description_width": ""
          }
        },
        "746570edb0e34b90a93364905013485c": {
          "model_module": "@jupyter-widgets/controls",
          "model_name": "HBoxModel",
          "model_module_version": "1.5.0",
          "state": {
            "_dom_classes": [],
            "_model_module": "@jupyter-widgets/controls",
            "_model_module_version": "1.5.0",
            "_model_name": "HBoxModel",
            "_view_count": null,
            "_view_module": "@jupyter-widgets/controls",
            "_view_module_version": "1.5.0",
            "_view_name": "HBoxView",
            "box_style": "",
            "children": [
              "IPY_MODEL_bc102d9f82e8477694f71d26883e5e6d",
              "IPY_MODEL_4d325e18cff14da0ad00e4f4108fe6f4",
              "IPY_MODEL_641c37ffdb2d45df802a2749d9a3115d"
            ],
            "layout": "IPY_MODEL_f74a80f240fb42d1816a81d67d2f9fc4"
          }
        },
        "bc102d9f82e8477694f71d26883e5e6d": {
          "model_module": "@jupyter-widgets/controls",
          "model_name": "HTMLModel",
          "model_module_version": "1.5.0",
          "state": {
            "_dom_classes": [],
            "_model_module": "@jupyter-widgets/controls",
            "_model_module_version": "1.5.0",
            "_model_name": "HTMLModel",
            "_view_count": null,
            "_view_module": "@jupyter-widgets/controls",
            "_view_module_version": "1.5.0",
            "_view_name": "HTMLView",
            "description": "",
            "description_tooltip": null,
            "layout": "IPY_MODEL_e088a20ad0bb46d6a5245584bd11da49",
            "placeholder": "​",
            "style": "IPY_MODEL_4c90009fb2774f26866eb7efad18c350",
            "value": "100%"
          }
        },
        "4d325e18cff14da0ad00e4f4108fe6f4": {
          "model_module": "@jupyter-widgets/controls",
          "model_name": "FloatProgressModel",
          "model_module_version": "1.5.0",
          "state": {
            "_dom_classes": [],
            "_model_module": "@jupyter-widgets/controls",
            "_model_module_version": "1.5.0",
            "_model_name": "FloatProgressModel",
            "_view_count": null,
            "_view_module": "@jupyter-widgets/controls",
            "_view_module_version": "1.5.0",
            "_view_name": "ProgressView",
            "bar_style": "success",
            "description": "",
            "description_tooltip": null,
            "layout": "IPY_MODEL_e896abc047814d41b5d575e6fa939182",
            "max": 313,
            "min": 0,
            "orientation": "horizontal",
            "style": "IPY_MODEL_3f2957d76e764dd09e5c4238cb8fa030",
            "value": 313
          }
        },
        "641c37ffdb2d45df802a2749d9a3115d": {
          "model_module": "@jupyter-widgets/controls",
          "model_name": "HTMLModel",
          "model_module_version": "1.5.0",
          "state": {
            "_dom_classes": [],
            "_model_module": "@jupyter-widgets/controls",
            "_model_module_version": "1.5.0",
            "_model_name": "HTMLModel",
            "_view_count": null,
            "_view_module": "@jupyter-widgets/controls",
            "_view_module_version": "1.5.0",
            "_view_name": "HTMLView",
            "description": "",
            "description_tooltip": null,
            "layout": "IPY_MODEL_f0e35a944da041199a55a86e4994cdb1",
            "placeholder": "​",
            "style": "IPY_MODEL_154f7e04126049b8beb3dcdf8b2f8106",
            "value": " 313/313 [00:01&lt;00:00, 254.82it/s]"
          }
        },
        "f74a80f240fb42d1816a81d67d2f9fc4": {
          "model_module": "@jupyter-widgets/base",
          "model_name": "LayoutModel",
          "model_module_version": "1.2.0",
          "state": {
            "_model_module": "@jupyter-widgets/base",
            "_model_module_version": "1.2.0",
            "_model_name": "LayoutModel",
            "_view_count": null,
            "_view_module": "@jupyter-widgets/base",
            "_view_module_version": "1.2.0",
            "_view_name": "LayoutView",
            "align_content": null,
            "align_items": null,
            "align_self": null,
            "border": null,
            "bottom": null,
            "display": null,
            "flex": null,
            "flex_flow": null,
            "grid_area": null,
            "grid_auto_columns": null,
            "grid_auto_flow": null,
            "grid_auto_rows": null,
            "grid_column": null,
            "grid_gap": null,
            "grid_row": null,
            "grid_template_areas": null,
            "grid_template_columns": null,
            "grid_template_rows": null,
            "height": null,
            "justify_content": null,
            "justify_items": null,
            "left": null,
            "margin": null,
            "max_height": null,
            "max_width": null,
            "min_height": null,
            "min_width": null,
            "object_fit": null,
            "object_position": null,
            "order": null,
            "overflow": null,
            "overflow_x": null,
            "overflow_y": null,
            "padding": null,
            "right": null,
            "top": null,
            "visibility": null,
            "width": null
          }
        },
        "e088a20ad0bb46d6a5245584bd11da49": {
          "model_module": "@jupyter-widgets/base",
          "model_name": "LayoutModel",
          "model_module_version": "1.2.0",
          "state": {
            "_model_module": "@jupyter-widgets/base",
            "_model_module_version": "1.2.0",
            "_model_name": "LayoutModel",
            "_view_count": null,
            "_view_module": "@jupyter-widgets/base",
            "_view_module_version": "1.2.0",
            "_view_name": "LayoutView",
            "align_content": null,
            "align_items": null,
            "align_self": null,
            "border": null,
            "bottom": null,
            "display": null,
            "flex": null,
            "flex_flow": null,
            "grid_area": null,
            "grid_auto_columns": null,
            "grid_auto_flow": null,
            "grid_auto_rows": null,
            "grid_column": null,
            "grid_gap": null,
            "grid_row": null,
            "grid_template_areas": null,
            "grid_template_columns": null,
            "grid_template_rows": null,
            "height": null,
            "justify_content": null,
            "justify_items": null,
            "left": null,
            "margin": null,
            "max_height": null,
            "max_width": null,
            "min_height": null,
            "min_width": null,
            "object_fit": null,
            "object_position": null,
            "order": null,
            "overflow": null,
            "overflow_x": null,
            "overflow_y": null,
            "padding": null,
            "right": null,
            "top": null,
            "visibility": null,
            "width": null
          }
        },
        "4c90009fb2774f26866eb7efad18c350": {
          "model_module": "@jupyter-widgets/controls",
          "model_name": "DescriptionStyleModel",
          "model_module_version": "1.5.0",
          "state": {
            "_model_module": "@jupyter-widgets/controls",
            "_model_module_version": "1.5.0",
            "_model_name": "DescriptionStyleModel",
            "_view_count": null,
            "_view_module": "@jupyter-widgets/base",
            "_view_module_version": "1.2.0",
            "_view_name": "StyleView",
            "description_width": ""
          }
        },
        "e896abc047814d41b5d575e6fa939182": {
          "model_module": "@jupyter-widgets/base",
          "model_name": "LayoutModel",
          "model_module_version": "1.2.0",
          "state": {
            "_model_module": "@jupyter-widgets/base",
            "_model_module_version": "1.2.0",
            "_model_name": "LayoutModel",
            "_view_count": null,
            "_view_module": "@jupyter-widgets/base",
            "_view_module_version": "1.2.0",
            "_view_name": "LayoutView",
            "align_content": null,
            "align_items": null,
            "align_self": null,
            "border": null,
            "bottom": null,
            "display": null,
            "flex": null,
            "flex_flow": null,
            "grid_area": null,
            "grid_auto_columns": null,
            "grid_auto_flow": null,
            "grid_auto_rows": null,
            "grid_column": null,
            "grid_gap": null,
            "grid_row": null,
            "grid_template_areas": null,
            "grid_template_columns": null,
            "grid_template_rows": null,
            "height": null,
            "justify_content": null,
            "justify_items": null,
            "left": null,
            "margin": null,
            "max_height": null,
            "max_width": null,
            "min_height": null,
            "min_width": null,
            "object_fit": null,
            "object_position": null,
            "order": null,
            "overflow": null,
            "overflow_x": null,
            "overflow_y": null,
            "padding": null,
            "right": null,
            "top": null,
            "visibility": null,
            "width": null
          }
        },
        "3f2957d76e764dd09e5c4238cb8fa030": {
          "model_module": "@jupyter-widgets/controls",
          "model_name": "ProgressStyleModel",
          "model_module_version": "1.5.0",
          "state": {
            "_model_module": "@jupyter-widgets/controls",
            "_model_module_version": "1.5.0",
            "_model_name": "ProgressStyleModel",
            "_view_count": null,
            "_view_module": "@jupyter-widgets/base",
            "_view_module_version": "1.2.0",
            "_view_name": "StyleView",
            "bar_color": null,
            "description_width": ""
          }
        },
        "f0e35a944da041199a55a86e4994cdb1": {
          "model_module": "@jupyter-widgets/base",
          "model_name": "LayoutModel",
          "model_module_version": "1.2.0",
          "state": {
            "_model_module": "@jupyter-widgets/base",
            "_model_module_version": "1.2.0",
            "_model_name": "LayoutModel",
            "_view_count": null,
            "_view_module": "@jupyter-widgets/base",
            "_view_module_version": "1.2.0",
            "_view_name": "LayoutView",
            "align_content": null,
            "align_items": null,
            "align_self": null,
            "border": null,
            "bottom": null,
            "display": null,
            "flex": null,
            "flex_flow": null,
            "grid_area": null,
            "grid_auto_columns": null,
            "grid_auto_flow": null,
            "grid_auto_rows": null,
            "grid_column": null,
            "grid_gap": null,
            "grid_row": null,
            "grid_template_areas": null,
            "grid_template_columns": null,
            "grid_template_rows": null,
            "height": null,
            "justify_content": null,
            "justify_items": null,
            "left": null,
            "margin": null,
            "max_height": null,
            "max_width": null,
            "min_height": null,
            "min_width": null,
            "object_fit": null,
            "object_position": null,
            "order": null,
            "overflow": null,
            "overflow_x": null,
            "overflow_y": null,
            "padding": null,
            "right": null,
            "top": null,
            "visibility": null,
            "width": null
          }
        },
        "154f7e04126049b8beb3dcdf8b2f8106": {
          "model_module": "@jupyter-widgets/controls",
          "model_name": "DescriptionStyleModel",
          "model_module_version": "1.5.0",
          "state": {
            "_model_module": "@jupyter-widgets/controls",
            "_model_module_version": "1.5.0",
            "_model_name": "DescriptionStyleModel",
            "_view_count": null,
            "_view_module": "@jupyter-widgets/base",
            "_view_module_version": "1.2.0",
            "_view_name": "StyleView",
            "description_width": ""
          }
        }
      }
    },
    "accelerator": "GPU"
  },
  "nbformat": 4,
  "nbformat_minor": 0
}